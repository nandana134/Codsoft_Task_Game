{
 "cells": [
  {
   "cell_type": "code",
   "execution_count": 1,
   "id": "77f3d5a6",
   "metadata": {},
   "outputs": [],
   "source": [
    "import random"
   ]
  },
  {
   "cell_type": "code",
   "execution_count": 2,
   "id": "b5b12ca5",
   "metadata": {},
   "outputs": [],
   "source": [
    "def get_user_choice():\n",
    "    while True:\n",
    "        user_choice = input(\"Choose rock, paper, or scissors: \").lower()\n",
    "        if user_choice in ['rock', 'paper', 'scissors']:\n",
    "            return user_choice\n",
    "        else:\n",
    "            print(\"Invalid choice. Please choose rock, paper, or scissors.\")"
   ]
  },
  {
   "cell_type": "code",
   "execution_count": 3,
   "id": "345d1e0f",
   "metadata": {},
   "outputs": [],
   "source": [
    "def determine_winner(user_choice, computer_choice):\n",
    "    if user_choice == computer_choice:\n",
    "        return \"It's a tie!\"\n",
    "    elif (user_choice == 'rock' and computer_choice == 'scissors') or \\\n",
    "         (user_choice == 'scissors' and computer_choice == 'paper') or \\\n",
    "         (user_choice == 'paper' and computer_choice == 'rock'):\n",
    "        return \"You win!\"\n",
    "    else:\n",
    "        return \"You lose!\""
   ]
  },
  {
   "cell_type": "code",
   "execution_count": 4,
   "id": "f1a9e983",
   "metadata": {},
   "outputs": [],
   "source": [
    "def play_game():\n",
    "    user_score = 0\n",
    "    computer_score = 0\n",
    "\n",
    "    while True:\n",
    "        user_choice = get_user_choice()\n",
    "        computer_choice = random.choice(['rock', 'paper', 'scissors'])\n",
    "\n",
    "        print(f\"\\nYour choice: {user_choice}\")\n",
    "        print(f\"Computer's choice: {computer_choice}\")\n",
    "\n",
    "        result = determine_winner(user_choice, computer_choice)\n",
    "        print(result)\n",
    "\n",
    "        if 'win' in result:\n",
    "            user_score += 1\n",
    "        elif 'lose' in result:\n",
    "            computer_score += 1\n",
    "\n",
    "        print(f\"Score - You: {user_score}  Computer: {computer_score}\")\n",
    "\n",
    "        play_again = input(\"Do you want to play again? (yes/no): \").lower()\n",
    "        if play_again != 'yes':\n",
    "            print(\"Thanks for playing!\")\n",
    "            break"
   ]
  },
  {
   "cell_type": "code",
   "execution_count": 5,
   "id": "d4f27280",
   "metadata": {},
   "outputs": [
    {
     "name": "stdout",
     "output_type": "stream",
     "text": [
      "Welcome to Rock, Paper, Scissors Game!\n",
      "Choose rock, paper, or scissors: rock\n",
      "\n",
      "Your choice: rock\n",
      "Computer's choice: paper\n",
      "You lose!\n",
      "Score - You: 0  Computer: 1\n",
      "Do you want to play again? (yes/no): yes\n",
      "Choose rock, paper, or scissors: paper\n",
      "\n",
      "Your choice: paper\n",
      "Computer's choice: scissors\n",
      "You lose!\n",
      "Score - You: 0  Computer: 2\n",
      "Do you want to play again? (yes/no): no\n",
      "Thanks for playing!\n"
     ]
    }
   ],
   "source": [
    "if __name__ == \"__main__\":\n",
    "    print(\"Welcome to Rock, Paper, Scissors Game!\")\n",
    "    play_game()"
   ]
  },
  {
   "cell_type": "code",
   "execution_count": null,
   "id": "ad2754b0",
   "metadata": {},
   "outputs": [],
   "source": []
  }
 ],
 "metadata": {
  "kernelspec": {
   "display_name": "Python 3 (ipykernel)",
   "language": "python",
   "name": "python3"
  },
  "language_info": {
   "codemirror_mode": {
    "name": "ipython",
    "version": 3
   },
   "file_extension": ".py",
   "mimetype": "text/x-python",
   "name": "python",
   "nbconvert_exporter": "python",
   "pygments_lexer": "ipython3",
   "version": "3.11.4"
  }
 },
 "nbformat": 4,
 "nbformat_minor": 5
}
